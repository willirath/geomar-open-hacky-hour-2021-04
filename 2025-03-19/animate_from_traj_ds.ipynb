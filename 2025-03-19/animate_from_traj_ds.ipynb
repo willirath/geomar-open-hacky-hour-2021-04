{
 "cells": [
  {
   "cell_type": "code",
   "execution_count": 2,
   "id": "954ef9e2-a7bf-4617-ab18-f1e94821c3a7",
   "metadata": {},
   "outputs": [],
   "source": [
    "def get_time_stamp_from_ds(ds, timestamp_for_animation):\n",
    "    return ds.where(abs((ds.time - timestamp_for_animation) / np.timedelta64(1, \"ns\")) < 1e9).mean(\"obs\").compute()"
   ]
  },
  {
   "cell_type": "code",
   "execution_count": null,
   "id": "61806abf-4241-406c-9e3e-baa5434d2dce",
   "metadata": {},
   "outputs": [],
   "source": [
    "# ds is a standard parcels output dataset with dims "
   ]
  },
  {
   "cell_type": "code",
   "execution_count": null,
   "id": "86cc1c98-dce5-48e5-a5c9-7ae7a5b8ba84",
   "metadata": {},
   "outputs": [],
   "source": [
    "for time_anim in np.arange(0, 365) * np.timedelta64(1, \"D\") + np.datetime64(\"2001-01-01\"):\n",
    "    get_time_stamp_from_ds(ds, time_anim).plot(...)\n",
    "    plt.gcf().savefig()\n",
    "    # ..."
   ]
  },
  {
   "cell_type": "code",
   "execution_count": null,
   "id": "e56d85c8-6bec-402e-bdb8-df345baf83bc",
   "metadata": {},
   "outputs": [],
   "source": []
  }
 ],
 "metadata": {
  "kernelspec": {
   "display_name": "Python 3 (ipykernel)",
   "language": "python",
   "name": "python3"
  },
  "language_info": {
   "codemirror_mode": {
    "name": "ipython",
    "version": 3
   },
   "file_extension": ".py",
   "mimetype": "text/x-python",
   "name": "python",
   "nbconvert_exporter": "python",
   "pygments_lexer": "ipython3",
   "version": "3.11.6"
  }
 },
 "nbformat": 4,
 "nbformat_minor": 5
}
