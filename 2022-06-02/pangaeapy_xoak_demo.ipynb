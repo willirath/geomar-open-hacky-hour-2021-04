{
 "cells": [
  {
   "cell_type": "code",
   "execution_count": 1,
   "id": "5d49b062-78ea-441b-b411-fa31c80be9e1",
   "metadata": {},
   "outputs": [],
   "source": [
    "# %pip install pangaeapy"
   ]
  },
  {
   "cell_type": "markdown",
   "id": "97078393-0af7-4c62-81df-75bcb7c47e70",
   "metadata": {},
   "source": [
    "Let's read some data from: https://doi.pangaea.de/10.1594/PANGAEA.890943"
   ]
  },
  {
   "cell_type": "code",
   "execution_count": 2,
   "id": "1d7b78f2-5ddc-48ae-a0ca-770388163ebf",
   "metadata": {},
   "outputs": [],
   "source": [
    "import pangaeapy"
   ]
  },
  {
   "cell_type": "code",
   "execution_count": 3,
   "id": "6e6530a2-7e58-4189-9704-12ed7619f71c",
   "metadata": {},
   "outputs": [
    {
     "name": "stdout",
     "output_type": "stream",
     "text": [
      "Physical oceanography during Meteor cruise M50/3\n"
     ]
    }
   ],
   "source": [
    "M50_3_dataset = pangaeapy.pandataset.PanDataSet(\"https://doi.pangaea.de/10.1594/PANGAEA.890943\")\n",
    "print(M50_3_dataset.title)"
   ]
  },
  {
   "cell_type": "code",
   "execution_count": 4,
   "id": "ea8dc072-84d3-45aa-84b5-1ec3e1f3dd05",
   "metadata": {},
   "outputs": [
    {
     "data": {
      "text/html": [
       "<div>\n",
       "<style scoped>\n",
       "    .dataframe tbody tr th:only-of-type {\n",
       "        vertical-align: middle;\n",
       "    }\n",
       "\n",
       "    .dataframe tbody tr th {\n",
       "        vertical-align: top;\n",
       "    }\n",
       "\n",
       "    .dataframe thead th {\n",
       "        text-align: right;\n",
       "    }\n",
       "</style>\n",
       "<table border=\"1\" class=\"dataframe\">\n",
       "  <thead>\n",
       "    <tr style=\"text-align: right;\">\n",
       "      <th></th>\n",
       "      <th>Event</th>\n",
       "      <th>Latitude</th>\n",
       "      <th>Longitude</th>\n",
       "      <th>Date/Time</th>\n",
       "      <th>Depth water</th>\n",
       "      <th>Temp</th>\n",
       "      <th>Sal</th>\n",
       "      <th>Press</th>\n",
       "      <th>Elevation</th>\n",
       "    </tr>\n",
       "  </thead>\n",
       "  <tbody>\n",
       "    <tr>\n",
       "      <th>0</th>\n",
       "      <td>M50/3_CTD161</td>\n",
       "      <td>50.3112</td>\n",
       "      <td>-47.8167</td>\n",
       "      <td>2001-06-22 12:22:00</td>\n",
       "      <td>12.88</td>\n",
       "      <td>6.780</td>\n",
       "      <td>34.234</td>\n",
       "      <td>13</td>\n",
       "      <td>-2714.0</td>\n",
       "    </tr>\n",
       "    <tr>\n",
       "      <th>1</th>\n",
       "      <td>M50/3_CTD161</td>\n",
       "      <td>50.3112</td>\n",
       "      <td>-47.8167</td>\n",
       "      <td>2001-06-22 12:22:00</td>\n",
       "      <td>13.87</td>\n",
       "      <td>6.779</td>\n",
       "      <td>34.256</td>\n",
       "      <td>14</td>\n",
       "      <td>-2714.0</td>\n",
       "    </tr>\n",
       "    <tr>\n",
       "      <th>2</th>\n",
       "      <td>M50/3_CTD161</td>\n",
       "      <td>50.3112</td>\n",
       "      <td>-47.8167</td>\n",
       "      <td>2001-06-22 12:22:00</td>\n",
       "      <td>14.86</td>\n",
       "      <td>6.774</td>\n",
       "      <td>34.256</td>\n",
       "      <td>15</td>\n",
       "      <td>-2714.0</td>\n",
       "    </tr>\n",
       "    <tr>\n",
       "      <th>3</th>\n",
       "      <td>M50/3_CTD161</td>\n",
       "      <td>50.3112</td>\n",
       "      <td>-47.8167</td>\n",
       "      <td>2001-06-22 12:22:00</td>\n",
       "      <td>15.86</td>\n",
       "      <td>6.775</td>\n",
       "      <td>34.256</td>\n",
       "      <td>16</td>\n",
       "      <td>-2714.0</td>\n",
       "    </tr>\n",
       "    <tr>\n",
       "      <th>4</th>\n",
       "      <td>M50/3_CTD161</td>\n",
       "      <td>50.3112</td>\n",
       "      <td>-47.8167</td>\n",
       "      <td>2001-06-22 12:22:00</td>\n",
       "      <td>16.85</td>\n",
       "      <td>6.779</td>\n",
       "      <td>34.256</td>\n",
       "      <td>17</td>\n",
       "      <td>-2714.0</td>\n",
       "    </tr>\n",
       "  </tbody>\n",
       "</table>\n",
       "</div>"
      ],
      "text/plain": [
       "          Event  Latitude  Longitude           Date/Time  Depth water   Temp  \\\n",
       "0  M50/3_CTD161   50.3112   -47.8167 2001-06-22 12:22:00        12.88  6.780   \n",
       "1  M50/3_CTD161   50.3112   -47.8167 2001-06-22 12:22:00        13.87  6.779   \n",
       "2  M50/3_CTD161   50.3112   -47.8167 2001-06-22 12:22:00        14.86  6.774   \n",
       "3  M50/3_CTD161   50.3112   -47.8167 2001-06-22 12:22:00        15.86  6.775   \n",
       "4  M50/3_CTD161   50.3112   -47.8167 2001-06-22 12:22:00        16.85  6.779   \n",
       "\n",
       "      Sal  Press  Elevation  \n",
       "0  34.234     13    -2714.0  \n",
       "1  34.256     14    -2714.0  \n",
       "2  34.256     15    -2714.0  \n",
       "3  34.256     16    -2714.0  \n",
       "4  34.256     17    -2714.0  "
      ]
     },
     "execution_count": 4,
     "metadata": {},
     "output_type": "execute_result"
    }
   ],
   "source": [
    "M50_3_dataset.data.head(5)"
   ]
  },
  {
   "cell_type": "code",
   "execution_count": 5,
   "id": "c71ed9be-f4f5-42f1-a2e2-a91646e54e25",
   "metadata": {},
   "outputs": [
    {
     "data": {
      "text/html": [
       "<div>\n",
       "<style scoped>\n",
       "    .dataframe tbody tr th:only-of-type {\n",
       "        vertical-align: middle;\n",
       "    }\n",
       "\n",
       "    .dataframe tbody tr th {\n",
       "        vertical-align: top;\n",
       "    }\n",
       "\n",
       "    .dataframe thead th {\n",
       "        text-align: right;\n",
       "    }\n",
       "</style>\n",
       "<table border=\"1\" class=\"dataframe\">\n",
       "  <thead>\n",
       "    <tr style=\"text-align: right;\">\n",
       "      <th></th>\n",
       "      <th>Event</th>\n",
       "      <th>Latitude</th>\n",
       "      <th>Longitude</th>\n",
       "      <th>Date/Time</th>\n",
       "      <th>Depth water</th>\n",
       "      <th>Temp</th>\n",
       "      <th>Sal</th>\n",
       "      <th>Press</th>\n",
       "      <th>Elevation</th>\n",
       "    </tr>\n",
       "  </thead>\n",
       "  <tbody>\n",
       "    <tr>\n",
       "      <th>0</th>\n",
       "      <td>M50/3_CTD161</td>\n",
       "      <td>50.3112</td>\n",
       "      <td>-47.8167</td>\n",
       "      <td>2001-06-22 12:22:00</td>\n",
       "      <td>12.88</td>\n",
       "      <td>6.780</td>\n",
       "      <td>34.234</td>\n",
       "      <td>13</td>\n",
       "      <td>-2714.0</td>\n",
       "    </tr>\n",
       "    <tr>\n",
       "      <th>1</th>\n",
       "      <td>M50/3_CTD161</td>\n",
       "      <td>50.3112</td>\n",
       "      <td>-47.8167</td>\n",
       "      <td>2001-06-22 12:22:00</td>\n",
       "      <td>13.87</td>\n",
       "      <td>6.779</td>\n",
       "      <td>34.256</td>\n",
       "      <td>14</td>\n",
       "      <td>-2714.0</td>\n",
       "    </tr>\n",
       "    <tr>\n",
       "      <th>2</th>\n",
       "      <td>M50/3_CTD161</td>\n",
       "      <td>50.3112</td>\n",
       "      <td>-47.8167</td>\n",
       "      <td>2001-06-22 12:22:00</td>\n",
       "      <td>14.86</td>\n",
       "      <td>6.774</td>\n",
       "      <td>34.256</td>\n",
       "      <td>15</td>\n",
       "      <td>-2714.0</td>\n",
       "    </tr>\n",
       "    <tr>\n",
       "      <th>3</th>\n",
       "      <td>M50/3_CTD161</td>\n",
       "      <td>50.3112</td>\n",
       "      <td>-47.8167</td>\n",
       "      <td>2001-06-22 12:22:00</td>\n",
       "      <td>15.86</td>\n",
       "      <td>6.775</td>\n",
       "      <td>34.256</td>\n",
       "      <td>16</td>\n",
       "      <td>-2714.0</td>\n",
       "    </tr>\n",
       "    <tr>\n",
       "      <th>4</th>\n",
       "      <td>M50/3_CTD161</td>\n",
       "      <td>50.3112</td>\n",
       "      <td>-47.8167</td>\n",
       "      <td>2001-06-22 12:22:00</td>\n",
       "      <td>16.85</td>\n",
       "      <td>6.779</td>\n",
       "      <td>34.256</td>\n",
       "      <td>17</td>\n",
       "      <td>-2714.0</td>\n",
       "    </tr>\n",
       "    <tr>\n",
       "      <th>...</th>\n",
       "      <td>...</td>\n",
       "      <td>...</td>\n",
       "      <td>...</td>\n",
       "      <td>...</td>\n",
       "      <td>...</td>\n",
       "      <td>...</td>\n",
       "      <td>...</td>\n",
       "      <td>...</td>\n",
       "      <td>...</td>\n",
       "    </tr>\n",
       "    <tr>\n",
       "      <th>235857</th>\n",
       "      <td>M50/3_CTD306</td>\n",
       "      <td>64.7480</td>\n",
       "      <td>-26.6665</td>\n",
       "      <td>2001-07-14 02:31:00</td>\n",
       "      <td>235.46</td>\n",
       "      <td>6.111</td>\n",
       "      <td>35.124</td>\n",
       "      <td>238</td>\n",
       "      <td>-249.0</td>\n",
       "    </tr>\n",
       "    <tr>\n",
       "      <th>235858</th>\n",
       "      <td>M50/3_CTD306</td>\n",
       "      <td>64.7480</td>\n",
       "      <td>-26.6665</td>\n",
       "      <td>2001-07-14 02:31:00</td>\n",
       "      <td>236.44</td>\n",
       "      <td>6.111</td>\n",
       "      <td>35.124</td>\n",
       "      <td>239</td>\n",
       "      <td>-249.0</td>\n",
       "    </tr>\n",
       "    <tr>\n",
       "      <th>235859</th>\n",
       "      <td>M50/3_CTD306</td>\n",
       "      <td>64.7480</td>\n",
       "      <td>-26.6665</td>\n",
       "      <td>2001-07-14 02:31:00</td>\n",
       "      <td>237.43</td>\n",
       "      <td>6.111</td>\n",
       "      <td>35.124</td>\n",
       "      <td>240</td>\n",
       "      <td>-249.0</td>\n",
       "    </tr>\n",
       "    <tr>\n",
       "      <th>235860</th>\n",
       "      <td>M50/3_CTD306</td>\n",
       "      <td>64.7480</td>\n",
       "      <td>-26.6665</td>\n",
       "      <td>2001-07-14 02:31:00</td>\n",
       "      <td>238.42</td>\n",
       "      <td>6.110</td>\n",
       "      <td>35.124</td>\n",
       "      <td>241</td>\n",
       "      <td>-249.0</td>\n",
       "    </tr>\n",
       "    <tr>\n",
       "      <th>235861</th>\n",
       "      <td>M50/3_CTD306</td>\n",
       "      <td>64.7480</td>\n",
       "      <td>-26.6665</td>\n",
       "      <td>2001-07-14 02:31:00</td>\n",
       "      <td>239.41</td>\n",
       "      <td>6.110</td>\n",
       "      <td>35.124</td>\n",
       "      <td>242</td>\n",
       "      <td>-249.0</td>\n",
       "    </tr>\n",
       "  </tbody>\n",
       "</table>\n",
       "<p>235862 rows × 9 columns</p>\n",
       "</div>"
      ],
      "text/plain": [
       "               Event  Latitude  Longitude           Date/Time  Depth water  \\\n",
       "0       M50/3_CTD161   50.3112   -47.8167 2001-06-22 12:22:00        12.88   \n",
       "1       M50/3_CTD161   50.3112   -47.8167 2001-06-22 12:22:00        13.87   \n",
       "2       M50/3_CTD161   50.3112   -47.8167 2001-06-22 12:22:00        14.86   \n",
       "3       M50/3_CTD161   50.3112   -47.8167 2001-06-22 12:22:00        15.86   \n",
       "4       M50/3_CTD161   50.3112   -47.8167 2001-06-22 12:22:00        16.85   \n",
       "...              ...       ...        ...                 ...          ...   \n",
       "235857  M50/3_CTD306   64.7480   -26.6665 2001-07-14 02:31:00       235.46   \n",
       "235858  M50/3_CTD306   64.7480   -26.6665 2001-07-14 02:31:00       236.44   \n",
       "235859  M50/3_CTD306   64.7480   -26.6665 2001-07-14 02:31:00       237.43   \n",
       "235860  M50/3_CTD306   64.7480   -26.6665 2001-07-14 02:31:00       238.42   \n",
       "235861  M50/3_CTD306   64.7480   -26.6665 2001-07-14 02:31:00       239.41   \n",
       "\n",
       "         Temp     Sal  Press  Elevation  \n",
       "0       6.780  34.234     13    -2714.0  \n",
       "1       6.779  34.256     14    -2714.0  \n",
       "2       6.774  34.256     15    -2714.0  \n",
       "3       6.775  34.256     16    -2714.0  \n",
       "4       6.779  34.256     17    -2714.0  \n",
       "...       ...     ...    ...        ...  \n",
       "235857  6.111  35.124    238     -249.0  \n",
       "235858  6.111  35.124    239     -249.0  \n",
       "235859  6.111  35.124    240     -249.0  \n",
       "235860  6.110  35.124    241     -249.0  \n",
       "235861  6.110  35.124    242     -249.0  \n",
       "\n",
       "[235862 rows x 9 columns]"
      ]
     },
     "execution_count": 5,
     "metadata": {},
     "output_type": "execute_result"
    }
   ],
   "source": [
    "M50_3_data = M50_3_dataset.data\n",
    "M50_3_data"
   ]
  },
  {
   "cell_type": "code",
   "execution_count": 6,
   "id": "b7f8c11c-d61c-4e6e-8865-e22902ad2204",
   "metadata": {},
   "outputs": [
    {
     "data": {
      "text/html": [
       "<div>\n",
       "<style scoped>\n",
       "    .dataframe tbody tr th:only-of-type {\n",
       "        vertical-align: middle;\n",
       "    }\n",
       "\n",
       "    .dataframe tbody tr th {\n",
       "        vertical-align: top;\n",
       "    }\n",
       "\n",
       "    .dataframe thead th {\n",
       "        text-align: right;\n",
       "    }\n",
       "</style>\n",
       "<table border=\"1\" class=\"dataframe\">\n",
       "  <thead>\n",
       "    <tr style=\"text-align: right;\">\n",
       "      <th></th>\n",
       "      <th>Latitude</th>\n",
       "      <th>Longitude</th>\n",
       "      <th>Date/Time</th>\n",
       "      <th>Depth water</th>\n",
       "      <th>Temp</th>\n",
       "      <th>Sal</th>\n",
       "      <th>Press</th>\n",
       "      <th>Elevation</th>\n",
       "    </tr>\n",
       "    <tr>\n",
       "      <th>Event</th>\n",
       "      <th></th>\n",
       "      <th></th>\n",
       "      <th></th>\n",
       "      <th></th>\n",
       "      <th></th>\n",
       "      <th></th>\n",
       "      <th></th>\n",
       "      <th></th>\n",
       "    </tr>\n",
       "  </thead>\n",
       "  <tbody>\n",
       "    <tr>\n",
       "      <th>M50/3_CTD161</th>\n",
       "      <td>50.3112</td>\n",
       "      <td>-47.8167</td>\n",
       "      <td>2001-06-22 12:22:00</td>\n",
       "      <td>12.88</td>\n",
       "      <td>6.780</td>\n",
       "      <td>34.234</td>\n",
       "      <td>13</td>\n",
       "      <td>-2714.0</td>\n",
       "    </tr>\n",
       "    <tr>\n",
       "      <th>M50/3_CTD162</th>\n",
       "      <td>58.7965</td>\n",
       "      <td>-30.8310</td>\n",
       "      <td>2001-06-25 14:39:00</td>\n",
       "      <td>12.87</td>\n",
       "      <td>10.742</td>\n",
       "      <td>35.116</td>\n",
       "      <td>13</td>\n",
       "      <td>-1225.0</td>\n",
       "    </tr>\n",
       "    <tr>\n",
       "      <th>M50/3_CTD163</th>\n",
       "      <td>58.8670</td>\n",
       "      <td>-31.5005</td>\n",
       "      <td>2001-06-25 17:52:00</td>\n",
       "      <td>2.97</td>\n",
       "      <td>10.476</td>\n",
       "      <td>35.030</td>\n",
       "      <td>3</td>\n",
       "      <td>-1513.0</td>\n",
       "    </tr>\n",
       "    <tr>\n",
       "      <th>M50/3_CTD164</th>\n",
       "      <td>58.9323</td>\n",
       "      <td>-32.1643</td>\n",
       "      <td>2001-06-25 21:42:00</td>\n",
       "      <td>12.87</td>\n",
       "      <td>10.257</td>\n",
       "      <td>34.981</td>\n",
       "      <td>13</td>\n",
       "      <td>-1778.0</td>\n",
       "    </tr>\n",
       "    <tr>\n",
       "      <th>M50/3_CTD165</th>\n",
       "      <td>59.0047</td>\n",
       "      <td>-32.8257</td>\n",
       "      <td>2001-06-26 01:39:00</td>\n",
       "      <td>4.95</td>\n",
       "      <td>9.807</td>\n",
       "      <td>34.844</td>\n",
       "      <td>5</td>\n",
       "      <td>-2136.0</td>\n",
       "    </tr>\n",
       "    <tr>\n",
       "      <th>...</th>\n",
       "      <td>...</td>\n",
       "      <td>...</td>\n",
       "      <td>...</td>\n",
       "      <td>...</td>\n",
       "      <td>...</td>\n",
       "      <td>...</td>\n",
       "      <td>...</td>\n",
       "      <td>...</td>\n",
       "    </tr>\n",
       "    <tr>\n",
       "      <th>M50/3_CTD302</th>\n",
       "      <td>64.7503</td>\n",
       "      <td>-27.9995</td>\n",
       "      <td>2001-07-13 19:53:00</td>\n",
       "      <td>1.98</td>\n",
       "      <td>10.027</td>\n",
       "      <td>35.045</td>\n",
       "      <td>2</td>\n",
       "      <td>-1023.0</td>\n",
       "    </tr>\n",
       "    <tr>\n",
       "      <th>M50/3_CTD303</th>\n",
       "      <td>64.7493</td>\n",
       "      <td>-27.6643</td>\n",
       "      <td>2001-07-13 21:46:00</td>\n",
       "      <td>3.96</td>\n",
       "      <td>9.648</td>\n",
       "      <td>35.076</td>\n",
       "      <td>4</td>\n",
       "      <td>-804.0</td>\n",
       "    </tr>\n",
       "    <tr>\n",
       "      <th>M50/3_CTD304</th>\n",
       "      <td>64.7478</td>\n",
       "      <td>-27.3305</td>\n",
       "      <td>2001-07-13 23:30:00</td>\n",
       "      <td>3.96</td>\n",
       "      <td>9.074</td>\n",
       "      <td>35.084</td>\n",
       "      <td>4</td>\n",
       "      <td>-546.0</td>\n",
       "    </tr>\n",
       "    <tr>\n",
       "      <th>M50/3_CTD305</th>\n",
       "      <td>64.7488</td>\n",
       "      <td>-27.0040</td>\n",
       "      <td>2001-07-14 01:09:00</td>\n",
       "      <td>5.94</td>\n",
       "      <td>9.548</td>\n",
       "      <td>35.061</td>\n",
       "      <td>6</td>\n",
       "      <td>-281.0</td>\n",
       "    </tr>\n",
       "    <tr>\n",
       "      <th>M50/3_CTD306</th>\n",
       "      <td>64.7480</td>\n",
       "      <td>-26.6665</td>\n",
       "      <td>2001-07-14 02:31:00</td>\n",
       "      <td>5.94</td>\n",
       "      <td>9.808</td>\n",
       "      <td>35.062</td>\n",
       "      <td>6</td>\n",
       "      <td>-249.0</td>\n",
       "    </tr>\n",
       "  </tbody>\n",
       "</table>\n",
       "<p>127 rows × 8 columns</p>\n",
       "</div>"
      ],
      "text/plain": [
       "              Latitude  Longitude           Date/Time  Depth water    Temp  \\\n",
       "Event                                                                        \n",
       "M50/3_CTD161   50.3112   -47.8167 2001-06-22 12:22:00        12.88   6.780   \n",
       "M50/3_CTD162   58.7965   -30.8310 2001-06-25 14:39:00        12.87  10.742   \n",
       "M50/3_CTD163   58.8670   -31.5005 2001-06-25 17:52:00         2.97  10.476   \n",
       "M50/3_CTD164   58.9323   -32.1643 2001-06-25 21:42:00        12.87  10.257   \n",
       "M50/3_CTD165   59.0047   -32.8257 2001-06-26 01:39:00         4.95   9.807   \n",
       "...                ...        ...                 ...          ...     ...   \n",
       "M50/3_CTD302   64.7503   -27.9995 2001-07-13 19:53:00         1.98  10.027   \n",
       "M50/3_CTD303   64.7493   -27.6643 2001-07-13 21:46:00         3.96   9.648   \n",
       "M50/3_CTD304   64.7478   -27.3305 2001-07-13 23:30:00         3.96   9.074   \n",
       "M50/3_CTD305   64.7488   -27.0040 2001-07-14 01:09:00         5.94   9.548   \n",
       "M50/3_CTD306   64.7480   -26.6665 2001-07-14 02:31:00         5.94   9.808   \n",
       "\n",
       "                 Sal  Press  Elevation  \n",
       "Event                                   \n",
       "M50/3_CTD161  34.234     13    -2714.0  \n",
       "M50/3_CTD162  35.116     13    -1225.0  \n",
       "M50/3_CTD163  35.030      3    -1513.0  \n",
       "M50/3_CTD164  34.981     13    -1778.0  \n",
       "M50/3_CTD165  34.844      5    -2136.0  \n",
       "...              ...    ...        ...  \n",
       "M50/3_CTD302  35.045      2    -1023.0  \n",
       "M50/3_CTD303  35.076      4     -804.0  \n",
       "M50/3_CTD304  35.084      4     -546.0  \n",
       "M50/3_CTD305  35.061      6     -281.0  \n",
       "M50/3_CTD306  35.062      6     -249.0  \n",
       "\n",
       "[127 rows x 8 columns]"
      ]
     },
     "execution_count": 6,
     "metadata": {},
     "output_type": "execute_result"
    }
   ],
   "source": [
    "M50_3_closest_to_surface = M50_3_data.groupby(\"Event\").first()\n",
    "M50_3_closest_to_surface"
   ]
  },
  {
   "cell_type": "code",
   "execution_count": 7,
   "id": "cef44b9e-09ed-4ef7-93d5-270d46fb4ce2",
   "metadata": {},
   "outputs": [
    {
     "data": {
      "image/png": "[encoded data removed]",
      "text/plain": [
       "<Figure size 864x504 with 2 Axes>"
      ]
     },
     "metadata": {
      "needs_background": "light"
     },
     "output_type": "display_data"
    }
   ],
   "source": [
    "M50_3_closest_to_surface.plot.scatter(x=\"Longitude\", y=\"Latitude\", c=\"Temp\", s=15, cmap=\"viridis\", figsize=(12, 7));"
   ]
  },
  {
   "cell_type": "code",
   "execution_count": 8,
   "id": "558c2a10-7d42-40d7-b60d-b925663138ae",
   "metadata": {},
   "outputs": [],
   "source": [
    "# %conda install -c conda-forge xoak"
   ]
  },
  {
   "cell_type": "code",
   "execution_count": 9,
   "id": "81165b1b-846e-4879-9b47-a63a9b916259",
   "metadata": {},
   "outputs": [],
   "source": [
    "# !curl -O https://zenodo.org/record/3755721/files/FOCI1.14-TEST.2020.04.1_1m_20110101_20111231_grid_T.nc"
   ]
  },
  {
   "cell_type": "code",
   "execution_count": 10,
   "id": "1d060d0a-dd8b-4753-b2eb-f0fdfefdaac4",
   "metadata": {},
   "outputs": [],
   "source": [
    "import xarray as xr\n",
    "import xoak"
   ]
  },
  {
   "cell_type": "code",
   "execution_count": 11,
   "id": "2f812b40-8277-499d-bd00-f0f9c6b6247d",
   "metadata": {},
   "outputs": [
    {
     "data": {
      "text/plain": [
       "<xarray.core.options.set_options at 0x7f6b592cb5e0>"
      ]
     },
     "execution_count": 11,
     "metadata": {},
     "output_type": "execute_result"
    }
   ],
   "source": [
    "xr.set_options(display_style=\"text\")"
   ]
  },
  {
   "cell_type": "code",
   "execution_count": 12,
   "id": "34b85a74-758b-4ecf-9328-7c1ea9bab2c4",
   "metadata": {},
   "outputs": [
    {
     "data": {
      "text/html": [
       "<pre>&lt;xarray.DataArray &#x27;votemper&#x27; (time_counter: 12, deptht: 46, y: 509, x: 720)&gt;\n",
       "dask.array&lt;getitem, shape=(12, 46, 509, 720), dtype=float32, chunksize=(1, 46, 509, 720), chunktype=numpy.ndarray&gt;\n",
       "Coordinates:\n",
       "    nav_lat        (y, x) float32 dask.array&lt;chunksize=(509, 720), meta=np.ndarray&gt;\n",
       "    nav_lon        (y, x) float32 dask.array&lt;chunksize=(509, 720), meta=np.ndarray&gt;\n",
       "  * deptht         (deptht) float32 3.047 9.454 16.36 ... 5.625e+03 5.875e+03\n",
       "    time_centered  (time_counter) datetime64[ns] dask.array&lt;chunksize=(1,), meta=np.ndarray&gt;\n",
       "  * time_counter   (time_counter) datetime64[ns] 2011-01-16T12:00:00 ... 2011...\n",
       "Dimensions without coordinates: y, x\n",
       "Attributes:\n",
       "    standard_name:       sea_water_potential_temperature\n",
       "    long_name:           temperature\n",
       "    units:               degC\n",
       "    online_operation:    average\n",
       "    interval_operation:  1800 s\n",
       "    interval_write:      1 month\n",
       "    cell_methods:        time: mean (interval: 1800 s)</pre>"
      ],
      "text/plain": [
       "<xarray.DataArray 'votemper' (time_counter: 12, deptht: 46, y: 509, x: 720)>\n",
       "dask.array<getitem, shape=(12, 46, 509, 720), dtype=float32, chunksize=(1, 46, 509, 720), chunktype=numpy.ndarray>\n",
       "Coordinates:\n",
       "    nav_lat        (y, x) float32 dask.array<chunksize=(509, 720), meta=np.ndarray>\n",
       "    nav_lon        (y, x) float32 dask.array<chunksize=(509, 720), meta=np.ndarray>\n",
       "  * deptht         (deptht) float32 3.047 9.454 16.36 ... 5.625e+03 5.875e+03\n",
       "    time_centered  (time_counter) datetime64[ns] dask.array<chunksize=(1,), meta=np.ndarray>\n",
       "  * time_counter   (time_counter) datetime64[ns] 2011-01-16T12:00:00 ... 2011...\n",
       "Dimensions without coordinates: y, x\n",
       "Attributes:\n",
       "    standard_name:       sea_water_potential_temperature\n",
       "    long_name:           temperature\n",
       "    units:               degC\n",
       "    online_operation:    average\n",
       "    interval_operation:  1800 s\n",
       "    interval_write:      1 month\n",
       "    cell_methods:        time: mean (interval: 1800 s)"
      ]
     },
     "execution_count": 12,
     "metadata": {},
     "output_type": "execute_result"
    }
   ],
   "source": [
    "FOCI_ds = xr.open_dataset(\n",
    "    \"FOCI1.14-TEST.2020.04.1_1m_20110101_20111231_grid_T.nc\",\n",
    "    chunks={\"time_counter\": 1}\n",
    ").isel(x=slice(1, -1), y=slice(1, -1))\n",
    "FOCI_temp = FOCI_ds.votemper\n",
    "FOCI_temp"
   ]
  },
  {
   "cell_type": "code",
   "execution_count": 13,
   "id": "482bf8a2-fe23-45ef-ba75-e1d90c25999a",
   "metadata": {},
   "outputs": [],
   "source": [
    "FOCI_temp.xoak.set_index(['nav_lat', 'nav_lon'], 'sklearn_geo_balltree')"
   ]
  },
  {
   "cell_type": "code",
   "execution_count": 14,
   "id": "8fe25c84-a355-4c1c-a201-af28194a0faf",
   "metadata": {},
   "outputs": [
    {
     "data": {
      "text/html": [
       "<pre>&lt;xarray.Dataset&gt;\n",
       "Dimensions:      (Event: 127)\n",
       "Coordinates:\n",
       "  * Event        (Event) object &#x27;M50/3_CTD161&#x27; &#x27;M50/3_CTD162&#x27; ... &#x27;M50/3_CTD306&#x27;\n",
       "Data variables:\n",
       "    Latitude     (Event) float64 50.31 58.8 58.87 58.93 ... 64.75 64.75 64.75\n",
       "    Longitude    (Event) float64 -47.82 -30.83 -31.5 ... -27.33 -27.0 -26.67\n",
       "    Date/Time    (Event) datetime64[ns] 2001-06-22T12:22:00 ... 2001-07-14T02...\n",
       "    Depth water  (Event) float64 12.88 12.87 2.97 12.87 ... 3.96 3.96 5.94 5.94\n",
       "    Temp         (Event) float64 6.78 10.74 10.48 10.26 ... 9.074 9.548 9.808\n",
       "    Sal          (Event) float64 34.23 35.12 35.03 34.98 ... 35.08 35.06 35.06\n",
       "    Press        (Event) int64 13 13 3 13 5 4 3 6 3 4 3 ... 4 4 7 10 3 2 4 4 6 6\n",
       "    Elevation    (Event) float64 -2.714e+03 -1.225e+03 ... -281.0 -249.0</pre>"
      ],
      "text/plain": [
       "<xarray.Dataset>\n",
       "Dimensions:      (Event: 127)\n",
       "Coordinates:\n",
       "  * Event        (Event) object 'M50/3_CTD161' 'M50/3_CTD162' ... 'M50/3_CTD306'\n",
       "Data variables:\n",
       "    Latitude     (Event) float64 50.31 58.8 58.87 58.93 ... 64.75 64.75 64.75\n",
       "    Longitude    (Event) float64 -47.82 -30.83 -31.5 ... -27.33 -27.0 -26.67\n",
       "    Date/Time    (Event) datetime64[ns] 2001-06-22T12:22:00 ... 2001-07-14T02...\n",
       "    Depth water  (Event) float64 12.88 12.87 2.97 12.87 ... 3.96 3.96 5.94 5.94\n",
       "    Temp         (Event) float64 6.78 10.74 10.48 10.26 ... 9.074 9.548 9.808\n",
       "    Sal          (Event) float64 34.23 35.12 35.03 34.98 ... 35.08 35.06 35.06\n",
       "    Press        (Event) int64 13 13 3 13 5 4 3 6 3 4 3 ... 4 4 7 10 3 2 4 4 6 6\n",
       "    Elevation    (Event) float64 -2.714e+03 -1.225e+03 ... -281.0 -249.0"
      ]
     },
     "execution_count": 14,
     "metadata": {},
     "output_type": "execute_result"
    }
   ],
   "source": [
    "M50_3_closest_to_surface_indexer = M50_3_closest_to_surface.to_xarray()\n",
    "M50_3_closest_to_surface_indexer"
   ]
  },
  {
   "cell_type": "code",
   "execution_count": 15,
   "id": "f2b50241-dbd7-4274-9122-ede6d15e48b1",
   "metadata": {},
   "outputs": [],
   "source": [
    "FOCI_temp_at_M50_3_positions = FOCI_temp.xoak.sel(\n",
    "    nav_lon=M50_3_closest_to_surface_indexer[\"Longitude\"],\n",
    "    nav_lat=M50_3_closest_to_surface_indexer[\"Latitude\"],\n",
    ")"
   ]
  },
  {
   "cell_type": "code",
   "execution_count": 16,
   "id": "e14d9428-faca-49e1-9cb3-3070c50a313f",
   "metadata": {},
   "outputs": [
    {
     "data": {
      "text/html": [
       "<pre>&lt;xarray.DataArray &#x27;votemper&#x27; (time_counter: 12, deptht: 46, Event: 127)&gt;\n",
       "dask.array&lt;transpose, shape=(12, 46, 127), dtype=float32, chunksize=(1, 46, 127), chunktype=numpy.ndarray&gt;\n",
       "Coordinates:\n",
       "    nav_lat        (Event) float32 dask.array&lt;chunksize=(127,), meta=np.ndarray&gt;\n",
       "    nav_lon        (Event) float32 dask.array&lt;chunksize=(127,), meta=np.ndarray&gt;\n",
       "  * deptht         (deptht) float32 3.047 9.454 16.36 ... 5.625e+03 5.875e+03\n",
       "    time_centered  (time_counter) datetime64[ns] dask.array&lt;chunksize=(1,), meta=np.ndarray&gt;\n",
       "  * time_counter   (time_counter) datetime64[ns] 2011-01-16T12:00:00 ... 2011...\n",
       "Dimensions without coordinates: Event\n",
       "Attributes:\n",
       "    standard_name:       sea_water_potential_temperature\n",
       "    long_name:           temperature\n",
       "    units:               degC\n",
       "    online_operation:    average\n",
       "    interval_operation:  1800 s\n",
       "    interval_write:      1 month\n",
       "    cell_methods:        time: mean (interval: 1800 s)</pre>"
      ],
      "text/plain": [
       "<xarray.DataArray 'votemper' (time_counter: 12, deptht: 46, Event: 127)>\n",
       "dask.array<transpose, shape=(12, 46, 127), dtype=float32, chunksize=(1, 46, 127), chunktype=numpy.ndarray>\n",
       "Coordinates:\n",
       "    nav_lat        (Event) float32 dask.array<chunksize=(127,), meta=np.ndarray>\n",
       "    nav_lon        (Event) float32 dask.array<chunksize=(127,), meta=np.ndarray>\n",
       "  * deptht         (deptht) float32 3.047 9.454 16.36 ... 5.625e+03 5.875e+03\n",
       "    time_centered  (time_counter) datetime64[ns] dask.array<chunksize=(1,), meta=np.ndarray>\n",
       "  * time_counter   (time_counter) datetime64[ns] 2011-01-16T12:00:00 ... 2011...\n",
       "Dimensions without coordinates: Event\n",
       "Attributes:\n",
       "    standard_name:       sea_water_potential_temperature\n",
       "    long_name:           temperature\n",
       "    units:               degC\n",
       "    online_operation:    average\n",
       "    interval_operation:  1800 s\n",
       "    interval_write:      1 month\n",
       "    cell_methods:        time: mean (interval: 1800 s)"
      ]
     },
     "execution_count": 16,
     "metadata": {},
     "output_type": "execute_result"
    }
   ],
   "source": [
    "FOCI_temp_at_M50_3_positions"
   ]
  },
  {
   "cell_type": "code",
   "execution_count": 17,
   "id": "87271519-10f4-43f3-8dea-c43768a8a1f8",
   "metadata": {},
   "outputs": [
    {
     "data": {
      "text/plain": [
       "<matplotlib.collections.PathCollection at 0x7f6b3ca42fd0>"
      ]
     },
     "execution_count": 17,
     "metadata": {},
     "output_type": "execute_result"
    },
    {
     "data": {
      "image/png": "[encoded data removed]",
      "text/plain": [
       "<Figure size 432x288 with 2 Axes>"
      ]
     },
     "metadata": {
      "needs_background": "light"
     },
     "output_type": "display_data"
    }
   ],
   "source": [
    "FOCI_temp_at_M50_3_positions.isel(deptht=0).mean(\"time_counter\").compute().to_dataset().plot.scatter(\n",
    "    x=\"nav_lon\", y=\"nav_lat\", hue=\"votemper\", cmap=\"viridis\",\n",
    ")"
   ]
  },
  {
   "cell_type": "code",
   "execution_count": 19,
   "id": "828aac21-4367-4181-9505-4ee277072d14",
   "metadata": {},
   "outputs": [],
   "source": [
    "FOCI_temp_at_M50_3_positions = FOCI_temp_at_M50_3_positions.assign_coords({\"Event\": list(M50_3_closest_to_surface.index)})"
   ]
  },
  {
   "cell_type": "code",
   "execution_count": 37,
   "id": "8784bb3e-5fab-447b-bb2a-6993148f2171",
   "metadata": {},
   "outputs": [
    {
     "data": {
      "text/plain": [
       "(-0.5371, 11.279100000000001, -0.5, 11.316200000000002)"
      ]
     },
     "execution_count": 37,
     "metadata": {},
     "output_type": "execute_result"
    },
    {
     "data": {
      "image/png": "[encoded data removed]",
      "text/plain": [
       "<Figure size 432x288 with 1 Axes>"
      ]
     },
     "metadata": {
      "needs_background": "light"
     },
     "output_type": "display_data"
    }
   ],
   "source": [
    "ax = (\n",
    "    M50_3_closest_to_surface\n",
    "    .join(\n",
    "        FOCI_temp_at_M50_3_positions.where(FOCI_temp_at_M50_3_positions != 0)\n",
    "        .isel(deptht=0)\n",
    "        .mean(\"time_counter\")\n",
    "        .to_dataset()\n",
    "        .to_dataframe()[[\"votemper\", ]]\n",
    "    )\n",
    ").plot.scatter(\n",
    "    x=\"Temp\", y=\"votemper\"\n",
    ")\n",
    "ax.plot([0, 10], [0, 10], \"r\")\n",
    "ax.axis(\"square\")"
   ]
  }
 ],
 "metadata": {
  "kernelspec": {
   "display_name": "Python 3 (ipykernel)",
   "language": "python",
   "name": "python3"
  },
  "language_info": {
   "codemirror_mode": {
    "name": "ipython",
    "version": 3
   },
   "file_extension": ".py",
   "mimetype": "text/x-python",
   "name": "python",
   "nbconvert_exporter": "python",
   "pygments_lexer": "ipython3",
   "version": "3.9.12"
  }
 },
 "nbformat": 4,
 "nbformat_minor": 5
}
