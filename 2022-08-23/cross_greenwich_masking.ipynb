{
 "cells": [
  {
   "cell_type": "code",
   "execution_count": 1,
   "id": "ac687e0d-358c-4be8-a88f-18ed362c123a",
   "metadata": {},
   "outputs": [
    {
     "name": "stdout",
     "output_type": "stream",
     "text": [
      "[0, 30, -120, -90, -60, -30]\n"
     ]
    }
   ],
   "source": [
    "# cross-greenwich case\n",
    "lons = [0, 30, 60, 90, 120, 150, 180, 210, 240, 270, 300, 330]\n",
    "lon_west = 220\n",
    "lon_east = 50\n",
    "\n",
    "def to_pm_180(lon):\n",
    "    return lon - 360 * ((lon % 360) > 180)\n",
    "\n",
    "lons = list(map(to_pm_180, lons))\n",
    "lon_west = to_pm_180(lon_west)\n",
    "lon_east = to_pm_180(lon_east)\n",
    "\n",
    "print(list(filter(lambda l: (l >= lon_west) & (l <= lon_east), lons)))"
   ]
  },
  {
   "cell_type": "code",
   "execution_count": 2,
   "id": "2c84d77f-8b3d-4449-a1b8-919bb0429414",
   "metadata": {},
   "outputs": [],
   "source": [
    "def to_180_base(lon):\n",
    "    lon -= 360 * (lon % 360 > 180)\n",
    "    return lon"
   ]
  },
  {
   "cell_type": "code",
   "execution_count": 3,
   "id": "143dea71-c600-4860-9012-f71f25f220ff",
   "metadata": {},
   "outputs": [],
   "source": [
    "import numpy as np"
   ]
  },
  {
   "cell_type": "code",
   "execution_count": 4,
   "id": "a3e0734e-4753-42a4-8dc7-680c2e560393",
   "metadata": {},
   "outputs": [
    {
     "data": {
      "text/plain": [
       "array([   0,   30,   60,   90,  120,  150,  180, -150, -120,  -90,  -60,\n",
       "        -30])"
      ]
     },
     "execution_count": 4,
     "metadata": {},
     "output_type": "execute_result"
    }
   ],
   "source": [
    "lons = np.array(lons)\n",
    "lons"
   ]
  },
  {
   "cell_type": "code",
   "execution_count": 5,
   "id": "65da58f8-d5e8-4d75-8006-3edc44133013",
   "metadata": {},
   "outputs": [
    {
     "data": {
      "text/plain": [
       "array([   0,   30,   60,   90,  120,  150,  180, -510, -480, -450, -420,\n",
       "       -390])"
      ]
     },
     "execution_count": 5,
     "metadata": {},
     "output_type": "execute_result"
    }
   ],
   "source": [
    "to_180_base(lons)"
   ]
  },
  {
   "cell_type": "code",
   "execution_count": null,
   "id": "befdbe34-338f-4ba9-9fce-2f1071852e74",
   "metadata": {},
   "outputs": [],
   "source": []
  }
 ],
 "metadata": {
  "kernelspec": {
   "display_name": "Python 3 (ipykernel)",
   "language": "python",
   "name": "python3"
  },
  "language_info": {
   "codemirror_mode": {
    "name": "ipython",
    "version": 3
   },
   "file_extension": ".py",
   "mimetype": "text/x-python",
   "name": "python",
   "nbconvert_exporter": "python",
   "pygments_lexer": "ipython3",
   "version": "3.9.13"
  }
 },
 "nbformat": 4,
 "nbformat_minor": 5
}
