{
 "cells": [
  {
   "cell_type": "code",
   "execution_count": 1,
   "id": "e90f3090-c36c-4240-80e2-fdca2d36f46b",
   "metadata": {},
   "outputs": [],
   "source": [
    "random_seed = None"
   ]
  },
  {
   "cell_type": "code",
   "execution_count": 2,
   "id": "f22b1de7-8e07-49ed-9346-fe49a1efe96f",
   "metadata": {},
   "outputs": [],
   "source": [
    "import numpy as np"
   ]
  },
  {
   "cell_type": "code",
   "execution_count": 3,
   "id": "e4d58ad0-2a71-4bb6-9c5d-652cbb0e7d0f",
   "metadata": {},
   "outputs": [],
   "source": [
    "np.random.seed(random_seed)"
   ]
  },
  {
   "cell_type": "code",
   "execution_count": 4,
   "id": "0da1e750-b2ee-453e-8122-d29651922dfb",
   "metadata": {},
   "outputs": [],
   "source": [
    "def calc_pi(n=10_000):\n",
    "    xy = np.random.uniform(size=(n, 2))\n",
    "    r2 = (xy ** 2).sum(axis=-1)\n",
    "    in_circ = r2 < 1.0\n",
    "    pi = 4 * in_circ.mean()\n",
    "    err = pi - np.pi\n",
    "    return pi, err"
   ]
  },
  {
   "cell_type": "code",
   "execution_count": 5,
   "id": "c07f8c06-d081-4c93-86bf-f60735d41687",
   "metadata": {},
   "outputs": [
    {
     "data": {
      "text/plain": [
       "(3.1356, -0.005992653589792951)"
      ]
     },
     "execution_count": 5,
     "metadata": {},
     "output_type": "execute_result"
    }
   ],
   "source": [
    "calc_pi()"
   ]
  },
  {
   "cell_type": "markdown",
   "id": "f16983b6-7bb9-4a9a-933d-4b24ea22f868",
   "metadata": {},
   "source": [
    "Many details for handling random numbers also for parallel applications: <https://numpy.org/doc/stable/reference/random/parallel.html>"
   ]
  },
  {
   "cell_type": "code",
   "execution_count": 7,
   "id": "19332e7b-81ce-40a5-ac86-054b383f2f3c",
   "metadata": {},
   "outputs": [
    {
     "data": {
      "text/plain": [
       "\u001b[0;31mDocstring:\u001b[0m\n",
       "seed(self, seed=None)\n",
       "\n",
       "Reseed a legacy MT19937 BitGenerator\n",
       "\n",
       "Notes\n",
       "-----\n",
       "This is a convenience, legacy function.\n",
       "\n",
       "The best practice is to **not** reseed a BitGenerator, rather to\n",
       "recreate a new one. This method is here for legacy reasons.\n",
       "This example demonstrates best practice.\n",
       "\n",
       ">>> from numpy.random import MT19937\n",
       ">>> from numpy.random import RandomState, SeedSequence\n",
       ">>> rs = RandomState(MT19937(SeedSequence(123456789)))\n",
       "# Later, you want to restart the stream\n",
       ">>> rs = RandomState(MT19937(SeedSequence(987654321)))\n",
       "\u001b[0;31mType:\u001b[0m      builtin_function_or_method\n"
      ]
     },
     "metadata": {},
     "output_type": "display_data"
    }
   ],
   "source": [
    "np.random.seed?"
   ]
  }
 ],
 "metadata": {
  "kernelspec": {
   "display_name": "Python 3 (ipykernel)",
   "language": "python",
   "name": "python3"
  },
  "language_info": {
   "codemirror_mode": {
    "name": "ipython",
    "version": 3
   },
   "file_extension": ".py",
   "mimetype": "text/x-python",
   "name": "python",
   "nbconvert_exporter": "python",
   "pygments_lexer": "ipython3",
   "version": "3.9.7"
  }
 },
 "nbformat": 4,
 "nbformat_minor": 5
}
