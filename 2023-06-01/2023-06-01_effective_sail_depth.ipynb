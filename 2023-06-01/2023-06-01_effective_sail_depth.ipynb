{
 "cells": [
  {
   "cell_type": "markdown",
   "id": "b33f057d-44bc-4b7a-80c4-e7578e9bb279",
   "metadata": {},
   "source": [
    "# Effective depth of the sail of a surface drifter\n",
    "\n",
    "Assumptions:\n",
    "- Buoy is in a surface current along the x-axis, sail is not.  (Can always reach this with translation and rotation.)\n",
    "- surcace current $v_0$\n",
    "- buoy drag: $C_d^B \\cdot A^B$\n",
    "- sail drag: $C_d^S \\cdot A^S$\n",
    "- no drag on wire\n",
    "- in equilibrium: buoy velocity equals sail velocity $v^B = v^S = V$\n",
    "\n",
    "Forces\n",
    "- drag\n",
    "    - $F_d^B = \\frac{\\rho\\,C_d^B\\,A^B\\,(V - v_0)^2}{2}$\n",
    "    - $F_d^S = \\frac{\\rho\\,C_d^S\\,A^S\\,V^2}{2}$\n",
    "    - $F_g^S = m^S\\cdot g$\n",
    "\n",
    "Force balances:\n",
    "- horizontally: drag on buoy equals drag on sail $F_d^B = F_d^S$\n",
    "- vertically / 2d: $\\alpha = \\arctan(F_d^S / F_g^S)$ sets the inclination of the wire\n",
    "- resulting depth $z = \\cos(\\alpha) \\cdot L_{wire}$"
   ]
  },
  {
   "cell_type": "markdown",
   "id": "8a90a0af-7fc5-4164-ba7e-bbe0ed4fc2d1",
   "metadata": {},
   "source": [
    "Solve for resulting velocity (as function of drags and surface velocities):\n",
    "\n",
    "$$F_d^B = F_d^S$$\n",
    "$$C_d^B\\,A^B\\,(V-v_0)^2 = C_d^S\\,A^S\\,V^2$$\n",
    "$$\\sqrt{C_d^B\\,A^B}\\,(v_0 - V) = \\sqrt{C_d^S\\,A^S}\\,V$$\n",
    "(sign because $v_0 > V$)\n",
    "$$V = \\frac{\\sqrt{C_d^B\\,A^B}}{\\sqrt{C_d^B\\,A^B} + \\sqrt{C_d^S\\,A^S}} \\, v_0$$"
   ]
  },
  {
   "cell_type": "code",
   "execution_count": 1,
   "id": "303a2f68-410c-4885-b80a-492fb9ed72da",
   "metadata": {
    "tags": []
   },
   "outputs": [],
   "source": [
    "import numpy as np\n",
    "import pandas as pd"
   ]
  },
  {
   "cell_type": "code",
   "execution_count": 2,
   "id": "90978c50-f278-4fa8-8ea0-0f822485a745",
   "metadata": {
    "tags": []
   },
   "outputs": [],
   "source": [
    "# parameters\n",
    "C_d_S = 2  # dimless, for a plate perpendicular to 2d flow\n",
    "A_S = 0.5 * 0.6  # m2\n",
    "m_S = 0.5  # kg\n",
    "\n",
    "C_d_B = 0.5  # dimless, sphere (I know...)\n",
    "A_B = np.pi * 0.1 ** 2  # m2\n",
    "\n",
    "wire_length = 3  # m\n",
    "water_density = 1000  # kg/m3\n",
    "g = 9.81"
   ]
  },
  {
   "cell_type": "code",
   "execution_count": 3,
   "id": "9808f46c-aca6-4f31-a383-46aaf8cb74be",
   "metadata": {
    "tags": []
   },
   "outputs": [
    {
     "data": {
      "text/plain": [
       "0.026179938779914945"
      ]
     },
     "execution_count": 3,
     "metadata": {},
     "output_type": "execute_result"
    }
   ],
   "source": [
    "drag_ratio = (C_d_B * A_B) / (C_d_S * A_S)\n",
    "drag_ratio"
   ]
  },
  {
   "cell_type": "code",
   "execution_count": 4,
   "id": "663fcfd8-f345-430d-bd0b-1872ea3e64c8",
   "metadata": {
    "tags": []
   },
   "outputs": [],
   "source": [
    "def calc_V_resulting(v_0=0, C_d_B=1, C_d_S=1, A_B=1, A_S=1):\n",
    "    d_B = (C_d_B * A_B) ** 0.5\n",
    "    d_S = (C_d_S * A_S) ** 0.5\n",
    "    return d_B / (d_B + d_S) * v_0"
   ]
  },
  {
   "cell_type": "code",
   "execution_count": 5,
   "id": "dd36e966-48ea-4578-aa6c-e43bb5873533",
   "metadata": {
    "tags": []
   },
   "outputs": [
    {
     "data": {
      "text/plain": [
       "0      0.00\n",
       "1      0.03\n",
       "2      0.06\n",
       "3      0.09\n",
       "4      0.12\n",
       "       ... \n",
       "96     2.88\n",
       "97     2.91\n",
       "98     2.94\n",
       "99     2.97\n",
       "100    3.00\n",
       "Name: v_0, Length: 101, dtype: float64"
      ]
     },
     "execution_count": 5,
     "metadata": {},
     "output_type": "execute_result"
    }
   ],
   "source": [
    "v_0 = pd.Series(np.linspace(0, 3, 101), name=\"v_0\")\n",
    "v_0"
   ]
  },
  {
   "cell_type": "code",
   "execution_count": 6,
   "id": "da0305c0-913d-41ef-af10-9d490a397907",
   "metadata": {
    "tags": []
   },
   "outputs": [
    {
     "data": {
      "text/plain": [
       "0      0.000000\n",
       "1      0.004178\n",
       "2      0.008356\n",
       "3      0.012534\n",
       "4      0.016712\n",
       "         ...   \n",
       "96     0.401093\n",
       "97     0.405271\n",
       "98     0.409449\n",
       "99     0.413627\n",
       "100    0.417805\n",
       "Name: v_0, Length: 101, dtype: float64"
      ]
     },
     "execution_count": 6,
     "metadata": {},
     "output_type": "execute_result"
    }
   ],
   "source": [
    "V_resulting = calc_V_resulting(v_0 = v_0, C_d_B=C_d_B, C_d_S=C_d_S, A_B=A_B, A_S=A_S)\n",
    "V_resulting"
   ]
  },
  {
   "cell_type": "code",
   "execution_count": 7,
   "id": "c589905f-7742-4f6c-88f4-11997846635f",
   "metadata": {
    "tags": []
   },
   "outputs": [],
   "source": [
    "def calc_drag_force(rho=1, C_d=1, A=1, v=0):\n",
    "    return 0.5 * C_d * rho * A * v ** 2"
   ]
  },
  {
   "cell_type": "code",
   "execution_count": 8,
   "id": "de8f1927-b1fc-48c8-a154-33aa7f907008",
   "metadata": {
    "tags": []
   },
   "outputs": [
    {
     "data": {
      "text/plain": [
       "0       0.000000\n",
       "1       0.005237\n",
       "2       0.020947\n",
       "3       0.047131\n",
       "4       0.083789\n",
       "         ...    \n",
       "96     48.262576\n",
       "97     49.273283\n",
       "98     50.294464\n",
       "99     51.326118\n",
       "100    52.368246\n",
       "Name: v_0, Length: 101, dtype: float64"
      ]
     },
     "execution_count": 8,
     "metadata": {},
     "output_type": "execute_result"
    }
   ],
   "source": [
    "drag_sail = calc_drag_force(rho=water_density, C_d=C_d_S, A=A_S, v=V_resulting)\n",
    "drag_sail"
   ]
  },
  {
   "cell_type": "code",
   "execution_count": 9,
   "id": "f16357fe-c296-4167-82c5-62b1f4c428ae",
   "metadata": {
    "tags": []
   },
   "outputs": [
    {
     "data": {
      "text/plain": [
       "4.905"
      ]
     },
     "execution_count": 9,
     "metadata": {},
     "output_type": "execute_result"
    }
   ],
   "source": [
    "grav_force_sail = g * m_S\n",
    "grav_force_sail"
   ]
  },
  {
   "cell_type": "code",
   "execution_count": 10,
   "id": "0bb3490a-0068-4956-89b8-7bb9cf818cd6",
   "metadata": {
    "tags": []
   },
   "outputs": [
    {
     "data": {
      "text/plain": [
       "0       0.000000\n",
       "1       0.061172\n",
       "2       0.244686\n",
       "3       0.550530\n",
       "4       0.978654\n",
       "         ...    \n",
       "96     84.196867\n",
       "97     84.315115\n",
       "98     84.429807\n",
       "99     84.541085\n",
       "100    84.649081\n",
       "Name: v_0, Length: 101, dtype: float64"
      ]
     },
     "execution_count": 10,
     "metadata": {},
     "output_type": "execute_result"
    }
   ],
   "source": [
    "angle = np.rad2deg(np.arctan(drag_sail / grav_force_sail))\n",
    "angle"
   ]
  },
  {
   "cell_type": "code",
   "execution_count": 11,
   "id": "879ea821-bcba-48d1-a587-641c90ea08ec",
   "metadata": {
    "tags": []
   },
   "outputs": [
    {
     "data": {
      "text/plain": [
       "0      3.000000\n",
       "1      2.999998\n",
       "2      2.999973\n",
       "3      2.999862\n",
       "4      2.999562\n",
       "         ...   \n",
       "96     0.303332\n",
       "97     0.297172\n",
       "98     0.291195\n",
       "99     0.285396\n",
       "100    0.279766\n",
       "Name: v_0, Length: 101, dtype: float64"
      ]
     },
     "execution_count": 11,
     "metadata": {},
     "output_type": "execute_result"
    }
   ],
   "source": [
    "depth = wire_length * np.cos(np.deg2rad(angle))\n",
    "depth"
   ]
  },
  {
   "cell_type": "code",
   "execution_count": 12,
   "id": "dbedc60e-3c16-471c-8a47-66e87c1aa9f5",
   "metadata": {
    "tags": []
   },
   "outputs": [],
   "source": [
    "df = pd.DataFrame({\n",
    "    \"v_0\": v_0,\n",
    "    \"V_resulting\": V_resulting,\n",
    "    \"drag_sail\": drag_sail,\n",
    "    \"angle\": angle,\n",
    "    \"depth\": -depth\n",
    "}).set_index(\"v_0\")"
   ]
  },
  {
   "cell_type": "code",
   "execution_count": 13,
   "id": "989ab458-acf8-4871-93e2-420a1d1b455e",
   "metadata": {
    "tags": []
   },
   "outputs": [
    {
     "data": {
      "image/png": "[encoded data removed]",
      "text/plain": [
       "<Figure size 1000x500 with 4 Axes>"
      ]
     },
     "metadata": {},
     "output_type": "display_data"
    }
   ],
   "source": [
    "df.plot(subplots=True, figsize=(10, 5), grid=True);"
   ]
  }
 ],
 "metadata": {
  "kernelspec": {
   "display_name": "Python 3 (ipykernel)",
   "language": "python",
   "name": "python3"
  },
  "language_info": {
   "codemirror_mode": {
    "name": "ipython",
    "version": 3
   },
   "file_extension": ".py",
   "mimetype": "text/x-python",
   "name": "python",
   "nbconvert_exporter": "python",
   "pygments_lexer": "ipython3",
   "version": "3.10.10"
  }
 },
 "nbformat": 4,
 "nbformat_minor": 5
}
