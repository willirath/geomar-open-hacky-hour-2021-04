{
 "cells": [
  {
   "cell_type": "code",
   "execution_count": 1,
   "id": "2c540a7d-b6d8-412a-95b4-da66385c892d",
   "metadata": {
    "tags": []
   },
   "outputs": [],
   "source": [
    "import pandas as pd"
   ]
  },
  {
   "cell_type": "code",
   "execution_count": 2,
   "id": "e046f12f-782d-4aec-902d-caa8014ec3e9",
   "metadata": {
    "tags": []
   },
   "outputs": [
    {
     "data": {
      "text/html": [
       "<div>\n",
       "<style scoped>\n",
       "    .dataframe tbody tr th:only-of-type {\n",
       "        vertical-align: middle;\n",
       "    }\n",
       "\n",
       "    .dataframe tbody tr th {\n",
       "        vertical-align: top;\n",
       "    }\n",
       "\n",
       "    .dataframe thead th {\n",
       "        text-align: right;\n",
       "    }\n",
       "</style>\n",
       "<table border=\"1\" class=\"dataframe\">\n",
       "  <thead>\n",
       "    <tr style=\"text-align: right;\">\n",
       "      <th></th>\n",
       "      <th>eddy_id</th>\n",
       "      <th>time</th>\n",
       "      <th>lon</th>\n",
       "      <th>lat</th>\n",
       "      <th>eddy_i</th>\n",
       "      <th>eddy_j</th>\n",
       "    </tr>\n",
       "  </thead>\n",
       "  <tbody>\n",
       "    <tr>\n",
       "      <th>0</th>\n",
       "      <td>0</td>\n",
       "      <td>2001-01-01 12:00:00</td>\n",
       "      <td>54.1</td>\n",
       "      <td>10.3</td>\n",
       "      <td>[15, 16, 12, 13]</td>\n",
       "      <td>[36, 37, 33, 38]</td>\n",
       "    </tr>\n",
       "    <tr>\n",
       "      <th>1</th>\n",
       "      <td>0</td>\n",
       "      <td>2001-01-02 12:00:00</td>\n",
       "      <td>54.5</td>\n",
       "      <td>10.4</td>\n",
       "      <td>[15, 16]</td>\n",
       "      <td>[41, 32]</td>\n",
       "    </tr>\n",
       "    <tr>\n",
       "      <th>2</th>\n",
       "      <td>0</td>\n",
       "      <td>2001-01-03 12:00:00</td>\n",
       "      <td>55.1</td>\n",
       "      <td>10.4</td>\n",
       "      <td>[15, 16, 12]</td>\n",
       "      <td>[21, 31, 41]</td>\n",
       "    </tr>\n",
       "    <tr>\n",
       "      <th>3</th>\n",
       "      <td>1</td>\n",
       "      <td>2001-01-01 12:00:00</td>\n",
       "      <td>-15.1</td>\n",
       "      <td>-35.1</td>\n",
       "      <td>[99, 98, 97, 97, 98, 99]</td>\n",
       "      <td>[3, 4, 5, 6, 2, 2]</td>\n",
       "    </tr>\n",
       "    <tr>\n",
       "      <th>4</th>\n",
       "      <td>1</td>\n",
       "      <td>2001-01-02 12:00:00</td>\n",
       "      <td>-16.2</td>\n",
       "      <td>-34.1</td>\n",
       "      <td>[99, 98, 97, 97, 101]</td>\n",
       "      <td>[3, 4, 1, 2, 3]</td>\n",
       "    </tr>\n",
       "  </tbody>\n",
       "</table>\n",
       "</div>"
      ],
      "text/plain": [
       "   eddy_id                time   lon   lat                    eddy_i   \n",
       "0        0 2001-01-01 12:00:00  54.1  10.3          [15, 16, 12, 13]  \\\n",
       "1        0 2001-01-02 12:00:00  54.5  10.4                  [15, 16]   \n",
       "2        0 2001-01-03 12:00:00  55.1  10.4              [15, 16, 12]   \n",
       "3        1 2001-01-01 12:00:00 -15.1 -35.1  [99, 98, 97, 97, 98, 99]   \n",
       "4        1 2001-01-02 12:00:00 -16.2 -34.1     [99, 98, 97, 97, 101]   \n",
       "\n",
       "               eddy_j  \n",
       "0    [36, 37, 33, 38]  \n",
       "1            [41, 32]  \n",
       "2        [21, 31, 41]  \n",
       "3  [3, 4, 5, 6, 2, 2]  \n",
       "4     [3, 4, 1, 2, 3]  "
      ]
     },
     "execution_count": 2,
     "metadata": {},
     "output_type": "execute_result"
    }
   ],
   "source": [
    "tracks_df = pd.DataFrame(\n",
    "    {\n",
    "        # two eddies, each observation is a separate row\n",
    "        \"eddy_id\": [\n",
    "            0,\n",
    "            0,\n",
    "            0,\n",
    "            1,\n",
    "            1,\n",
    "        ],\n",
    "        # corresponding time stamps\n",
    "        \"time\": pd.to_datetime(\n",
    "            [\n",
    "                \"2001-01-01T12:00:00\",\n",
    "                \"2001-01-02T12:00:00\",\n",
    "                \"2001-01-03T12:00:00\",\n",
    "                \"2001-01-01T12:00:00\",\n",
    "                \"2001-01-02T12:00:00\",\n",
    "            ]\n",
    "        ),\n",
    "        # centre positions\n",
    "        \"lon\": [\n",
    "            54.1,\n",
    "            54.5,\n",
    "            55.1,\n",
    "            -15.1,\n",
    "            -16.2,\n",
    "        ],\n",
    "        \"lat\": [\n",
    "            10.3,\n",
    "            10.4,\n",
    "            10.4,\n",
    "            -35.1,\n",
    "            -34.1,\n",
    "        ],\n",
    "        # masks (Index values don't really make sense. I've\n",
    "        # made them up. But the structure is what's important here.)\n",
    "        \"eddy_i\": [\n",
    "            [15, 16, 12, 13],\n",
    "            [15, 16],\n",
    "            [15, 16, 12],\n",
    "            [99, 98, 97, 97, 98, 99],\n",
    "            [99, 98, 97, 97, 101],\n",
    "        ],\n",
    "        \"eddy_j\": [\n",
    "            [36, 37, 33, 38],\n",
    "            [41, 32],\n",
    "            [21, 31, 41],\n",
    "            [3, 4, 5, 6, 2, 2],\n",
    "            [3, 4, 1, 2, 3],\n",
    "        ],\n",
    "    },\n",
    ")\n",
    "tracks_df"
   ]
  },
  {
   "cell_type": "markdown",
   "id": "85d5c9fa-0b72-4687-ad30-76174238c07a",
   "metadata": {},
   "source": [
    "Masks are lists and timestamps are timestamps:"
   ]
  },
  {
   "cell_type": "code",
   "execution_count": 3,
   "id": "fbbb33f4-9456-4cf8-aaba-96b9ea08cf96",
   "metadata": {
    "tags": []
   },
   "outputs": [
    {
     "data": {
      "text/plain": [
       "list"
      ]
     },
     "execution_count": 3,
     "metadata": {},
     "output_type": "execute_result"
    }
   ],
   "source": [
    "type(tracks_df[\"eddy_j\"][0])"
   ]
  },
  {
   "cell_type": "code",
   "execution_count": 4,
   "id": "5b412362-3f78-428f-ac25-b08fb7fe086e",
   "metadata": {
    "tags": []
   },
   "outputs": [
    {
     "data": {
      "text/plain": [
       "pandas._libs.tslibs.timestamps.Timestamp"
      ]
     },
     "execution_count": 4,
     "metadata": {},
     "output_type": "execute_result"
    }
   ],
   "source": [
    "type(tracks_df[\"time\"][0])"
   ]
  },
  {
   "cell_type": "markdown",
   "id": "47e0bfa1-f4f8-4ec4-95a8-a7d47904b6bd",
   "metadata": {},
   "source": [
    "Write to JSON"
   ]
  },
  {
   "cell_type": "code",
   "execution_count": 5,
   "id": "10dcde81-9861-4b1a-91d5-8b04f3148834",
   "metadata": {
    "tags": []
   },
   "outputs": [],
   "source": [
    "tracks_df.to_json(\n",
    "    \"tracks.json\",\n",
    "    date_format=\"iso\",  # ensure timestamps are human-readable strings\n",
    "    orient=\"records\", lines=True,  # ensure each obs is a separate record / row\n",
    ")"
   ]
  },
  {
   "cell_type": "code",
   "execution_count": 6,
   "id": "2cdf7b08-16b3-4e79-9863-f56c4e5b61b0",
   "metadata": {
    "tags": []
   },
   "outputs": [
    {
     "name": "stdout",
     "output_type": "stream",
     "text": [
      "{\"eddy_id\":0,\"time\":\"2001-01-01T12:00:00.000\",\"lon\":54.1,\"lat\":10.3,\"eddy_i\":[15,16,12,13],\"eddy_j\":[36,37,33,38]}\n",
      "{\"eddy_id\":0,\"time\":\"2001-01-02T12:00:00.000\",\"lon\":54.5,\"lat\":10.4,\"eddy_i\":[15,16],\"eddy_j\":[41,32]}\n",
      "{\"eddy_id\":0,\"time\":\"2001-01-03T12:00:00.000\",\"lon\":55.1,\"lat\":10.4,\"eddy_i\":[15,16,12],\"eddy_j\":[21,31,41]}\n",
      "{\"eddy_id\":1,\"time\":\"2001-01-01T12:00:00.000\",\"lon\":-15.1,\"lat\":-35.1,\"eddy_i\":[99,98,97,97,98,99],\"eddy_j\":[3,4,5,6,2,2]}\n",
      "{\"eddy_id\":1,\"time\":\"2001-01-02T12:00:00.000\",\"lon\":-16.2,\"lat\":-34.1,\"eddy_i\":[99,98,97,97,101],\"eddy_j\":[3,4,1,2,3]}\n"
     ]
    }
   ],
   "source": [
    "# display whole file contents (Don't to this with the real data !)\n",
    "!cat tracks.json"
   ]
  },
  {
   "cell_type": "markdown",
   "id": "5f656901-ab05-409e-91aa-681fff171064",
   "metadata": {},
   "source": [
    "Read JSON"
   ]
  },
  {
   "cell_type": "code",
   "execution_count": 7,
   "id": "b8e81b55-af99-4cf4-9f69-5adf834251a9",
   "metadata": {
    "tags": []
   },
   "outputs": [
    {
     "data": {
      "text/html": [
       "<div>\n",
       "<style scoped>\n",
       "    .dataframe tbody tr th:only-of-type {\n",
       "        vertical-align: middle;\n",
       "    }\n",
       "\n",
       "    .dataframe tbody tr th {\n",
       "        vertical-align: top;\n",
       "    }\n",
       "\n",
       "    .dataframe thead th {\n",
       "        text-align: right;\n",
       "    }\n",
       "</style>\n",
       "<table border=\"1\" class=\"dataframe\">\n",
       "  <thead>\n",
       "    <tr style=\"text-align: right;\">\n",
       "      <th></th>\n",
       "      <th>eddy_id</th>\n",
       "      <th>time</th>\n",
       "      <th>lon</th>\n",
       "      <th>lat</th>\n",
       "      <th>eddy_i</th>\n",
       "      <th>eddy_j</th>\n",
       "    </tr>\n",
       "  </thead>\n",
       "  <tbody>\n",
       "    <tr>\n",
       "      <th>0</th>\n",
       "      <td>0</td>\n",
       "      <td>2001-01-01 12:00:00</td>\n",
       "      <td>54.1</td>\n",
       "      <td>10.3</td>\n",
       "      <td>[15, 16, 12, 13]</td>\n",
       "      <td>[36, 37, 33, 38]</td>\n",
       "    </tr>\n",
       "    <tr>\n",
       "      <th>1</th>\n",
       "      <td>0</td>\n",
       "      <td>2001-01-02 12:00:00</td>\n",
       "      <td>54.5</td>\n",
       "      <td>10.4</td>\n",
       "      <td>[15, 16]</td>\n",
       "      <td>[41, 32]</td>\n",
       "    </tr>\n",
       "    <tr>\n",
       "      <th>2</th>\n",
       "      <td>0</td>\n",
       "      <td>2001-01-03 12:00:00</td>\n",
       "      <td>55.1</td>\n",
       "      <td>10.4</td>\n",
       "      <td>[15, 16, 12]</td>\n",
       "      <td>[21, 31, 41]</td>\n",
       "    </tr>\n",
       "    <tr>\n",
       "      <th>3</th>\n",
       "      <td>1</td>\n",
       "      <td>2001-01-01 12:00:00</td>\n",
       "      <td>-15.1</td>\n",
       "      <td>-35.1</td>\n",
       "      <td>[99, 98, 97, 97, 98, 99]</td>\n",
       "      <td>[3, 4, 5, 6, 2, 2]</td>\n",
       "    </tr>\n",
       "    <tr>\n",
       "      <th>4</th>\n",
       "      <td>1</td>\n",
       "      <td>2001-01-02 12:00:00</td>\n",
       "      <td>-16.2</td>\n",
       "      <td>-34.1</td>\n",
       "      <td>[99, 98, 97, 97, 101]</td>\n",
       "      <td>[3, 4, 1, 2, 3]</td>\n",
       "    </tr>\n",
       "  </tbody>\n",
       "</table>\n",
       "</div>"
      ],
      "text/plain": [
       "   eddy_id                time   lon   lat                    eddy_i   \n",
       "0        0 2001-01-01 12:00:00  54.1  10.3          [15, 16, 12, 13]  \\\n",
       "1        0 2001-01-02 12:00:00  54.5  10.4                  [15, 16]   \n",
       "2        0 2001-01-03 12:00:00  55.1  10.4              [15, 16, 12]   \n",
       "3        1 2001-01-01 12:00:00 -15.1 -35.1  [99, 98, 97, 97, 98, 99]   \n",
       "4        1 2001-01-02 12:00:00 -16.2 -34.1     [99, 98, 97, 97, 101]   \n",
       "\n",
       "               eddy_j  \n",
       "0    [36, 37, 33, 38]  \n",
       "1            [41, 32]  \n",
       "2        [21, 31, 41]  \n",
       "3  [3, 4, 5, 6, 2, 2]  \n",
       "4     [3, 4, 1, 2, 3]  "
      ]
     },
     "execution_count": 7,
     "metadata": {},
     "output_type": "execute_result"
    }
   ],
   "source": [
    "tracks_df_reread = pd.read_json(\n",
    "    \"tracks.json\",\n",
    "    convert_dates=[\"time\", ],  # tell reader which column contains time stamps\n",
    "    orient=\"records\", lines=True,  # tell reader each record is a line\n",
    ")\n",
    "tracks_df_reread"
   ]
  },
  {
   "cell_type": "markdown",
   "id": "e17500cc-2735-4da2-ac81-f8fabe19a228",
   "metadata": {},
   "source": [
    "Check if the types of the masks and time stamps are correct:"
   ]
  },
  {
   "cell_type": "code",
   "execution_count": 8,
   "id": "75e444ed-8043-48b9-9c8d-c12749f139fe",
   "metadata": {
    "tags": []
   },
   "outputs": [
    {
     "data": {
      "text/plain": [
       "list"
      ]
     },
     "execution_count": 8,
     "metadata": {},
     "output_type": "execute_result"
    }
   ],
   "source": [
    "type(tracks_df_reread[\"eddy_j\"][0])"
   ]
  },
  {
   "cell_type": "code",
   "execution_count": 9,
   "id": "4d86c5ae-245e-474e-8c80-0957ad35e8a2",
   "metadata": {
    "tags": []
   },
   "outputs": [
    {
     "data": {
      "text/plain": [
       "pandas._libs.tslibs.timestamps.Timestamp"
      ]
     },
     "execution_count": 9,
     "metadata": {},
     "output_type": "execute_result"
    }
   ],
   "source": [
    "type(tracks_df_reread[\"time\"][0])"
   ]
  }
 ],
 "metadata": {
  "kernelspec": {
   "display_name": "Python 3 (ipykernel)",
   "language": "python",
   "name": "python3"
  },
  "language_info": {
   "codemirror_mode": {
    "name": "ipython",
    "version": 3
   },
   "file_extension": ".py",
   "mimetype": "text/x-python",
   "name": "python",
   "nbconvert_exporter": "python",
   "pygments_lexer": "ipython3",
   "version": "3.10.10"
  }
 },
 "nbformat": 4,
 "nbformat_minor": 5
}
