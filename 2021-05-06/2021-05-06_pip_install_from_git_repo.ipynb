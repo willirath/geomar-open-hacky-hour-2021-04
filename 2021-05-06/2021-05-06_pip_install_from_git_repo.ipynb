{
 "cells": [
  {
   "cell_type": "markdown",
   "metadata": {},
   "source": [
    "# Install python package from git repo"
   ]
  },
  {
   "cell_type": "code",
   "execution_count": 2,
   "metadata": {},
   "outputs": [
    {
     "name": "stdout",
     "output_type": "stream",
     "text": [
      "/work/2021-05-06\n",
      "Hi !\n"
     ]
    }
   ],
   "source": [
    "!pwd\n",
    "!echo \"Hi !\""
   ]
  },
  {
   "cell_type": "code",
   "execution_count": 3,
   "metadata": {},
   "outputs": [
    {
     "name": "stdout",
     "output_type": "stream",
     "text": [
      "Hi \n"
     ]
    }
   ],
   "source": [
    "!python -c \"print('Hi ')\""
   ]
  },
  {
   "cell_type": "code",
   "execution_count": 4,
   "metadata": {},
   "outputs": [
    {
     "name": "stdout",
     "output_type": "stream",
     "text": [
      "Collecting git+https://github.com/willirath/xorca.git@v0.2.2\n",
      "  Cloning https://github.com/willirath/xorca.git (to revision v0.2.2) to /tmp/pip-req-build-_xpf7xrr\n",
      "  Running command git clone -q https://github.com/willirath/xorca.git /tmp/pip-req-build-_xpf7xrr\n",
      "  Running command git checkout -q 597bbe8dff1593bc5d5e4c80b2144ba2db20461f\n",
      "Requirement already satisfied: setuptools in /srv/conda/envs/notebook/lib/python3.7/site-packages (from xorca==0.0.0) (45.1.0.post20200119)\n",
      "Building wheels for collected packages: xorca\n",
      "  Building wheel for xorca (setup.py) ... \u001b[?25ldone\n",
      "\u001b[?25h  Created wheel for xorca: filename=xorca-0.0.0-py3-none-any.whl size=8258 sha256=4c63fe471c3f2908432dee949efea454e3fc98a4722b0afea3be8298a51e24ef\n",
      "  Stored in directory: /tmp/pip-ephem-wheel-cache-5_bxxv2y/wheels/79/a9/02/b68287f663c41032d66e8129535d88ece26ec69978ee3df08a\n",
      "Successfully built xorca\n",
      "Installing collected packages: xorca\n",
      "Successfully installed xorca-0.0.0\n"
     ]
    }
   ],
   "source": [
    "!python -m pip install git+https://github.com/willirath/xorca.git@v0.2.2"
   ]
  },
  {
   "cell_type": "code",
   "execution_count": 5,
   "metadata": {},
   "outputs": [],
   "source": [
    "import xorca"
   ]
  },
  {
   "cell_type": "code",
   "execution_count": null,
   "metadata": {},
   "outputs": [],
   "source": []
  }
 ],
 "metadata": {
  "kernelspec": {
   "display_name": "Python 3",
   "language": "python",
   "name": "python3"
  },
  "language_info": {
   "codemirror_mode": {
    "name": "ipython",
    "version": 3
   },
   "file_extension": ".py",
   "mimetype": "text/x-python",
   "name": "python",
   "nbconvert_exporter": "python",
   "pygments_lexer": "ipython3",
   "version": "3.7.6"
  }
 },
 "nbformat": 4,
 "nbformat_minor": 4
}
